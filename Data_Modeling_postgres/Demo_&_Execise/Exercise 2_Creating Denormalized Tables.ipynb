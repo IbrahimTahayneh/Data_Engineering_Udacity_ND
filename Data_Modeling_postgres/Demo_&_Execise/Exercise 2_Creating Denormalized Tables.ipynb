{
 "cells": [
  {
   "cell_type": "markdown",
   "metadata": {},
   "source": [
    "# Creating Denormalized Tables"
   ]
  },
  {
   "cell_type": "markdown",
   "metadata": {},
   "source": [
    "### Walk through the basics of modeling data from normalized from to denormalized form. We will create tables in PostgreSQL, insert rows of data, and do simple JOIN SQL queries to show how these mutliple tables can work together.\n",
    "\n",
    "\n",
    "**Remember the examples shown are simple, but imagine these situations at scale with large datasets, many users, and the need for quick response time.**"
   ]
  },
  {
   "cell_type": "code",
   "execution_count": 2,
   "metadata": {},
   "outputs": [],
   "source": [
    "# import library\n",
    "import psycopg2 as pg"
   ]
  },
  {
   "cell_type": "code",
   "execution_count": 3,
   "metadata": {},
   "outputs": [],
   "source": [
    "# connection to database\n",
    "try:\n",
    "    con = pg.connect(\"dbname=udacity user=postgres host=127.0.0.1 password=admin\")\n",
    "except pg.Error as e:\n",
    "    print(\"Error: Could not make connection to database\")\n",
    "    print(e)"
   ]
  },
  {
   "cell_type": "code",
   "execution_count": 6,
   "metadata": {},
   "outputs": [],
   "source": [
    "# get a cursor\n",
    "\n",
    "try:\n",
    "    cur = con.cursor()\n",
    "except pg.Error as e:\n",
    "    print(\"Error: Could not get cursor\")\n",
    "    print(e)\n",
    "con.set_session(autocommit=True)"
   ]
  },
  {
   "cell_type": "markdown",
   "metadata": {},
   "source": [
    "**In this exercise,I'll use the same table used in previous exercise, but we have added a new table sales. note, this database is normalized (NF3).**\n",
    "\n",
    "Table Name: transactions2 \n",
    "\n",
    "    column 0: transaction Id\n",
    "    column 1: Customer Name\n",
    "    column 2: Cashier Id\n",
    "    column 3: Year\n",
    "    \n",
    "Table Name: albums_sold\n",
    "\n",
    "    column 0: Album Id\n",
    "    column 1: Transaction Id\n",
    "    column 3: Album Name\n",
    "Table Name: employees\n",
    "\n",
    "    column 0: Employee Id\n",
    "    column 1: Employee Name\n",
    "Table Name: sales\n",
    "\n",
    "    column 0: Transaction Id\n",
    "    column 1: Amount Spent\n"
   ]
  },
  {
   "cell_type": "code",
   "execution_count": 7,
   "metadata": {},
   "outputs": [],
   "source": [
    "# add sales table to database\n",
    "try: \n",
    "    cur.execute(\"CREATE TABLE IF NOT EXISTS sales (transaction_id int, amount_spent int);\")\n",
    "except psycopg2.Error as e: \n",
    "    print(\"Error: Issue creating table\")\n",
    "    print (e)"
   ]
  },
  {
   "cell_type": "code",
   "execution_count": 8,
   "metadata": {},
   "outputs": [],
   "source": [
    "# insert data into sales table\n",
    "\n",
    "try: \n",
    "    cur.execute(\"INSERT INTO sales (transaction_id, amount_spent) \\\n",
    "                 VALUES (%s, %s)\", \\\n",
    "                 (1, 45))\n",
    "except psycopg2.Error as e: \n",
    "    print(\"Error: Inserting Rows\")\n",
    "    print (e)\n",
    "\n",
    "try: \n",
    "    cur.execute(\"INSERT INTO sales (transaction_id, amount_spent) \\\n",
    "                 VALUES (%s, %s)\", \\\n",
    "                 (2, 30))\n",
    "except psycopg2.Error as e: \n",
    "    print(\"Error: Inserting Rows\")\n",
    "    print (e)\n",
    "    \n",
    "try: \n",
    "    cur.execute(\"INSERT INTO sales (transaction_id, amount_spent) \\\n",
    "                 VALUES (%s, %s)\", \\\n",
    "                 (3, 60))\n",
    "except psycopg2.Error as e: \n",
    "    print(\"Error: Inserting Rows\")\n",
    "    print (e)"
   ]
  },
  {
   "cell_type": "code",
   "execution_count": 11,
   "metadata": {},
   "outputs": [
    {
     "name": "stdout",
     "output_type": "stream",
     "text": [
      "transaction table:\n",
      "(1, 'ibrahim', 1, 2000)\n",
      "(2, 'ibrahim', 1, 2000)\n",
      "(3, 'Jamal', 2, 2000)\n",
      "(4, 'Jamal', 2, 2000)\n",
      "(5, 'Ameen', 1, 2000)\n",
      "(6, 'Ameen', 1, 2000)\n",
      "\n",
      "album table:\n",
      "(1, 1, 'Hello')\n",
      "(2, 1, 'world beauty')\n",
      "(3, 2, 'yes')\n",
      "(4, 2, 'test')\n",
      "(5, 3, 'team')\n",
      "(6, 3, 'FCB')\n",
      "\n",
      "employee table:\n",
      "(1, 'Ali')\n",
      "(2, 'Ahmed')\n",
      "\n",
      "sales table:\n",
      "(1, 45)\n",
      "(2, 30)\n",
      "(3, 60)\n"
     ]
    }
   ],
   "source": [
    "# print results\n",
    "try:\n",
    "    cur.execute(\"select * from transaction2;\")\n",
    "except pg.Error as e:\n",
    "    print(\"Error: select *\")\n",
    "    print(e)\n",
    "\n",
    "print(\"transaction table:\")\n",
    "row = cur.fetchone()\n",
    "while row:\n",
    "    print(row)\n",
    "    row = cur.fetchone()\n",
    "    \n",
    "try:\n",
    "    cur.execute(\"select * from album_sold;\")\n",
    "except pg.Error as e:\n",
    "    print(\"Error: select *\")\n",
    "    print(e)\n",
    "\n",
    "print(\"\\nalbum table:\")\n",
    "row = cur.fetchone()\n",
    "while row:\n",
    "    print(row)\n",
    "    row = cur.fetchone()\n",
    "\n",
    "try:\n",
    "    cur.execute(\"select * from employee;\")\n",
    "except pg.Error as e:\n",
    "    print(\"Error: select *\")\n",
    "    print(e)\n",
    "\n",
    "print(\"\\nemployee table:\")\n",
    "row = cur.fetchone()\n",
    "while row:\n",
    "    print(row)\n",
    "    row = cur.fetchone()\n",
    "\n",
    "try:\n",
    "    cur.execute(\"select * from sales;\")\n",
    "except pg.Error as e:\n",
    "    print(\"Error: select *\")\n",
    "    print(e)\n",
    "\n",
    "print(\"\\nsales table:\")\n",
    "row = cur.fetchone()\n",
    "while row:\n",
    "    print(row)\n",
    "    row = cur.fetchone()"
   ]
  },
  {
   "cell_type": "markdown",
   "metadata": {},
   "source": [
    "**Let's say we need to do a query that gives us:**\n",
    "\n",
    "     transaction_id\n",
    "     customer_name\n",
    "     cashier name\n",
    "     year \n",
    "     albums sold\n",
    "     amount sold\n",
    "\n",
    "we will need to perform a 3 way JOIN on the 4 tables we have created."
   ]
  },
  {
   "cell_type": "code",
   "execution_count": 17,
   "metadata": {},
   "outputs": [
    {
     "name": "stdout",
     "output_type": "stream",
     "text": [
      "(1, 'ibrahim', 'Ali', 2000, 'Hello', 45)\n",
      "(1, 'ibrahim', 'Ali', 2000, 'world beauty', 45)\n",
      "(2, 'ibrahim', 'Ali', 2000, 'yes', 30)\n",
      "(2, 'ibrahim', 'Ali', 2000, 'test', 30)\n",
      "(3, 'Jamal', 'Ahmed', 2000, 'team', 60)\n",
      "(3, 'Jamal', 'Ahmed', 2000, 'FCB', 60)\n"
     ]
    }
   ],
   "source": [
    "try:\n",
    "    cur.execute(\"select t.transaction_id, t.customer_name, emp.employee_name, t.year,\\\n",
    "    ab.album_name, sale.amount_spent from transaction2 t \\\n",
    "    join employee emp on t.cashier_id = emp.employee_id \\\n",
    "    join album_sold ab on t.transaction_id = ab.transaction_id \\\n",
    "    join sales sale on t.transaction_id = sale.transaction_id\")\n",
    "except pg.Error as e:\n",
    "    print(\"Error: Select *\")\n",
    "    print(e)\n",
    "\n",
    "row = cur.fetchone()\n",
    "while row:\n",
    "    print(row)\n",
    "    row = cur.fetchone()"
   ]
  },
  {
   "cell_type": "markdown",
   "metadata": {},
   "source": [
    "**Great we were able to get the data we wanted.**\n",
    "\n",
    "But, we had a to 3 way JOIN to get there. While it's great we had that flexibility, we need to remember that joins are slow and if we have a read heavy workload that required low latency queries we want to reduce the number of JOINS. Let's think about denormalizing our normalized tables.\n",
    "\n",
    "With denormalization we want to think about the queries we are running and how we can reduce our number of JOINS even if that means duplicating data.\n",
    "\n",
    "Query 1 : select transaction_id, customer_name, amount_sent FROM <min number of tables>\n",
    "This should give the amount spent on each transaction\n",
    " \n",
    "Query 2: select cashier_name, SUM(amount_spent) FROM <min number of tables> GROUP BY cashier_name\n",
    "This should give the total sales by cashier\n",
    "    \n",
    "Query 1: select transaction_id, customer_name, amount_spent FROM <min number of tables>\n",
    "There are two ways to do this, you can do a JOIN on the sales and transactions2 table but we want to minimize the use of JOINS.\n",
    "\n",
    "Let's add amount_spent to the transactions table so that we will not need to do a JOIN at all.\n",
    "    \n",
    "Table Name: transactions \n",
    "    \n",
    "    column 0: transaction Id\n",
    "    column 1: Customer Name\n",
    "    column 2: Cashier Id\n",
    "    column 3: Year\n",
    "    column 4: amount_spent\n"
   ]
  },
  {
   "cell_type": "code",
   "execution_count": 18,
   "metadata": {},
   "outputs": [],
   "source": [
    "# create transaction table.\n",
    "\n",
    "try: \n",
    "    cur.execute(\"CREATE TABLE IF NOT EXISTS transactions (transaction_id int, \\\n",
    "                                                           customer_name varchar, cashier_id int, \\\n",
    "                                                           year int, amount_spent int);\")\n",
    "except psycopg2.Error as e: \n",
    "    print(\"Error: Issue creating table\")\n",
    "    print (e)\n"
   ]
  },
  {
   "cell_type": "code",
   "execution_count": 19,
   "metadata": {},
   "outputs": [],
   "source": [
    "# insert data into transactions table.\n",
    "\n",
    "try: \n",
    "    cur.execute(\"INSERT INTO transactions (transaction_id, customer_name, cashier_id, year, amount_spent) \\\n",
    "                 VALUES (%s, %s, %s, %s, %s)\", \\\n",
    "                 (1, \"ibrahim\", 1, 2000, 40))\n",
    "except psycopg2.Error as e: \n",
    "    print(\"Error: Inserting Rows\")\n",
    "    print (e)\n",
    "\n",
    "try: \n",
    "    cur.execute(\"INSERT INTO transactions (transaction_id, customer_name, cashier_id, year, amount_spent) \\\n",
    "                 VALUES (%s, %s, %s, %s, %s)\", \\\n",
    "                 (2, \"Jamal\", 2, 2000, 30))\n",
    "except psycopg2.Error as e: \n",
    "    print(\"Error: Inserting Rows\")\n",
    "    print (e)\n",
    "\n",
    "try: \n",
    "    cur.execute(\"INSERT INTO transactions (transaction_id, customer_name, cashier_id, year, amount_spent) \\\n",
    "                 VALUES (%s, %s, %s, %s, %s)\", \\\n",
    "                 (3, \"Ali\", 1, 2000, 10))\n",
    "except psycopg2.Error as e: \n",
    "    print(\"Error: Inserting Rows\")\n",
    "    print (e)"
   ]
  },
  {
   "cell_type": "code",
   "execution_count": 21,
   "metadata": {},
   "outputs": [
    {
     "name": "stdout",
     "output_type": "stream",
     "text": [
      "(1, 'ibrahim', 40)\n",
      "(2, 'Jamal', 30)\n",
      "(3, 'Ali', 10)\n"
     ]
    }
   ],
   "source": [
    "# now do a simplifed query to get the information we need. No  JOIN is needed.\n",
    "\n",
    "try:\n",
    "    cur.execute('select transaction_id, customer_name, amount_spent FROM transactions;')\n",
    "except pg.Error as e:\n",
    "    print('Error: select *')\n",
    "    print(e)\n",
    "    \n",
    "row = cur.fetchone()\n",
    "while row:\n",
    "    print(row)\n",
    "    row = cur.fetchone()"
   ]
  },
  {
   "cell_type": "code",
   "execution_count": 22,
   "metadata": {},
   "outputs": [],
   "source": [
    "# Query 2: select cashier_name, SUM(amount_spent) FROM <min number of tables> GROUP BY cashier_name\n",
    "try: \n",
    "    cur.execute(\"CREATE TABLE IF NOT EXISTS cashier_sales (transaction_id int, cashier_name varchar, \\\n",
    "                                                           cashier_id int, amount_spent int);\")\n",
    "except psycopg2.Error as e: \n",
    "    print(\"Error: Issue creating table\")\n",
    "    print (e)\n",
    "\n",
    "try: \n",
    "    cur.execute(\"INSERT INTO cashier_sales (transaction_id, cashier_name, cashier_id, amount_spent) \\\n",
    "                 VALUES (%s, %s, %s, %s)\", \\\n",
    "                 (1, \"Ali\", 1, 40 ))\n",
    "except psycopg2.Error as e: \n",
    "    print(\"Error: Inserting Rows\")\n",
    "    print (e)\n",
    "\n",
    "try: \n",
    "    cur.execute(\"INSERT INTO cashier_sales (transaction_id, cashier_name, cashier_id, amount_spent) \\\n",
    "                 VALUES (%s, %s, %s, %s)\", \\\n",
    "                 (2, \"Ahmed\", 2, 40 ))\n",
    "except psycopg2.Error as e: \n",
    "    print(\"Error: Inserting Rows\")\n",
    "    print (e)\n",
    "try: \n",
    "    cur.execute(\"INSERT INTO cashier_sales (transaction_id, cashier_name, cashier_id, amount_spent) \\\n",
    "                 VALUES (%s, %s, %s, %s)\", \\\n",
    "                 (3, \"Ahmed\", 2, 10 ))\n",
    "except psycopg2.Error as e: \n",
    "    print(\"Error: Inserting Rows\")\n",
    "    print (e)\n",
    "\n",
    "try: \n",
    "    cur.execute(\"INSERT INTO cashier_sales (transaction_id, cashier_name, cashier_id, amount_spent) \\\n",
    "                 VALUES (%s, %s, %s, %s)\", \\\n",
    "                 (4, \"Ali\", 1, 70 ))\n",
    "except psycopg2.Error as e: \n",
    "    print(\"Error: Inserting Rows\")\n",
    "    print (e)"
   ]
  },
  {
   "cell_type": "code",
   "execution_count": 26,
   "metadata": {},
   "outputs": [
    {
     "name": "stdout",
     "output_type": "stream",
     "text": [
      "('Ali', 110)\n",
      "('Ahmed', 50)\n"
     ]
    }
   ],
   "source": [
    "# implement query2:\n",
    "try: \n",
    "    cur.execute(\"select cashier_name,sum(amount_spent) from cashier_sales group by cashier_name;\")\n",
    "except pg.Error as e:\n",
    "    print(\"Error: select *\")\n",
    "    print(e)\n",
    "\n",
    "row = cur.fetchone()\n",
    "while row:\n",
    "    print(row)\n",
    "    row = cur.fetchone()"
   ]
  },
  {
   "cell_type": "code",
   "execution_count": 27,
   "metadata": {},
   "outputs": [],
   "source": [
    "# close cursor and connection\n",
    "cur.close()\n",
    "con.close()"
   ]
  },
  {
   "cell_type": "code",
   "execution_count": null,
   "metadata": {},
   "outputs": [],
   "source": []
  }
 ],
 "metadata": {
  "kernelspec": {
   "display_name": "Python 3",
   "language": "python",
   "name": "python3"
  },
  "language_info": {
   "codemirror_mode": {
    "name": "ipython",
    "version": 3
   },
   "file_extension": ".py",
   "mimetype": "text/x-python",
   "name": "python",
   "nbconvert_exporter": "python",
   "pygments_lexer": "ipython3",
   "version": "3.8.5"
  }
 },
 "nbformat": 4,
 "nbformat_minor": 4
}
