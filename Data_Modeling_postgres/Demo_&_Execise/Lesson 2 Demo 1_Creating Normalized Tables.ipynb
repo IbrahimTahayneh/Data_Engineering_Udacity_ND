{
 "cells": [
  {
   "cell_type": "markdown",
   "metadata": {},
   "source": [
    "# Lesson 2 Demo 1: Creating Normalized Tables\n",
    "\n",
    "   \n",
    "### Walk through the basics of modeling data in normalized form. \n",
    "    1)Create tables in PostgreSQL\n",
    "    2)Insert rows of data\n",
    "    3)Do a simple JOIN SQL query to show how these tables can work together.\n",
    "    \n",
    "### Import the library"
   ]
  },
  {
   "cell_type": "code",
   "execution_count": 1,
   "metadata": {},
   "outputs": [],
   "source": [
    "import psycopg2 as pg"
   ]
  },
  {
   "cell_type": "markdown",
   "metadata": {},
   "source": [
    "### Create a connection to the database, get a cursor, and set autocommit to true"
   ]
  },
  {
   "cell_type": "code",
   "execution_count": 2,
   "metadata": {},
   "outputs": [
    {
     "name": "stdout",
     "output_type": "stream",
     "text": [
      "Yes\n"
     ]
    }
   ],
   "source": [
    "try:\n",
    "    conn = pg.connect(\"host=127.0.0.1 dbname=udacity user=postgres password=admin\")\n",
    "    print('Yes')\n",
    "except pg.Error as e:\n",
    "    print('ERROR: Could not make connection to the postgres database.')\n",
    "    print(e)"
   ]
  },
  {
   "cell_type": "code",
   "execution_count": 3,
   "metadata": {},
   "outputs": [],
   "source": [
    "try:\n",
    "    cur = conn.cursor()\n",
    "except pg.Error as e:\n",
    "    print(\"ERROR: Could not get cursor to Database \")\n",
    "    print(e)\n",
    "conn.set_session(autocommit=True)"
   ]
  },
  {
   "cell_type": "markdown",
   "metadata": {},
   "source": [
    "\n",
    "**Let's imagine we have a table called Music Library.**\n",
    "    \n",
    "    Table Name: music_library\n",
    "    column 0: Album Id\n",
    "    column 1: Album Name\n",
    "    column 2: Artist Name\n",
    "    column 3: Year \n",
    "    column 4: List of songs\n",
    "    \n",
    "    \n",
    "**translate this information into a Create Table Statement and insert the data**"
   ]
  },
  {
   "cell_type": "code",
   "execution_count": 4,
   "metadata": {},
   "outputs": [
    {
     "name": "stdout",
     "output_type": "stream",
     "text": [
      "Table Created\n"
     ]
    }
   ],
   "source": [
    "try:\n",
    "    cur.execute('CREATE TABLE IF NOT EXISTS music_library(album_id int, \\\n",
    "    album_name varchar, artist_name varchar, \\\n",
    "    year int, songs text[]);')\n",
    "    print('Table Created')\n",
    "except pg.Error as e:\n",
    "    print(\"ERROR: Could not create table in database.\")\n",
    "    print(e)"
   ]
  },
  {
   "cell_type": "code",
   "execution_count": 5,
   "metadata": {},
   "outputs": [
    {
     "name": "stdout",
     "output_type": "stream",
     "text": [
      "Done\n"
     ]
    }
   ],
   "source": [
    "try:\n",
    "    cur.execute(\"INSERT INTO music_library(album_id, album_name, artist_name, year, songs)\\\n",
    "    VALUES(%s, %s, %s, %s, %s)\", \\\n",
    "               (1 , 'Hello', 'Adule',2014,['Hello','Sky falls','Remember me','someone']))\n",
    "    print('Done')\n",
    "except pg.Error as e:\n",
    "    print(\"ERROR: Inserting Rows\")\n",
    "    print(e)"
   ]
  },
  {
   "cell_type": "code",
   "execution_count": 6,
   "metadata": {},
   "outputs": [
    {
     "name": "stdout",
     "output_type": "stream",
     "text": [
      "Done\n"
     ]
    }
   ],
   "source": [
    "try:\n",
    "    cur.execute(\"INSERT INTO music_library(album_id, album_name, artist_name, year, songs)\\\n",
    "    VALUES(%s, %s, %s, %s, %s)\", \\\n",
    "               (2 , 'Welcome', 'Ibrahim',2014,['TAMAMA','TEST','HIE','She']))\n",
    "    print('Done')\n",
    "except pg.Error as e:\n",
    "    print(\"ERROR: Inserting Rows\")\n",
    "    print(e)"
   ]
  },
  {
   "cell_type": "code",
   "execution_count": 7,
   "metadata": {},
   "outputs": [],
   "source": [
    "try:\n",
    "    cur.execute('SELECT * from music_library;')\n",
    "except pg.Error as e:\n",
    "    print(\"ERROR: select *\")\n",
    "    print(e)"
   ]
  },
  {
   "cell_type": "code",
   "execution_count": 8,
   "metadata": {},
   "outputs": [
    {
     "name": "stdout",
     "output_type": "stream",
     "text": [
      "(1, 'Hello', 'Adule', 2014, ['Hello', 'Sky falls', 'Remember me', 'someone'])\n",
      "(2, 'Welcome', 'Ibrahim', 2014, ['TAMAMA', 'TEST', 'HIE', 'She'])\n"
     ]
    }
   ],
   "source": [
    "row = cur.fetchone()\n",
    "while row:\n",
    "    print(row)\n",
    "    row = cur.fetchone()"
   ]
  },
  {
   "cell_type": "markdown",
   "metadata": {},
   "source": [
    "\n",
    "**Moving to 1st Normal Form (1NF)**\n",
    "\n",
    "This data has not been normalized. To get this data into 1st normal form, we will need to remove any collections or list of data. We need to break up the list of songs into individuals rows.\n",
    "\n",
    "Table Name: music_library2\n",
    "    \n",
    "    column 0: Album Id\n",
    "    column 1: Album Name\n",
    "    column 2: Artist Name\n",
    "    column 3: Year \n",
    "    column 4: Song Name"
   ]
  },
  {
   "cell_type": "code",
   "execution_count": 9,
   "metadata": {},
   "outputs": [
    {
     "name": "stdout",
     "output_type": "stream",
     "text": [
      "Table Created\n"
     ]
    }
   ],
   "source": [
    "try:\n",
    "    cur.execute('CREATE TABLE IF NOT EXISTS music_library2(album_id int, \\\n",
    "    album_name varchar, artist_name varchar, \\\n",
    "    year int, song_name varchar);')\n",
    "    print('Table Created')\n",
    "except pg.Error as e:\n",
    "    print(\"ERROR: Could not create table in database.\")\n",
    "    print(e)"
   ]
  },
  {
   "cell_type": "code",
   "execution_count": 10,
   "metadata": {},
   "outputs": [
    {
     "name": "stdout",
     "output_type": "stream",
     "text": [
      "Done\n"
     ]
    }
   ],
   "source": [
    "try:\n",
    "    cur.execute(\"INSERT INTO music_library2(album_id, album_name, artist_name, year, song_name)\\\n",
    "    VALUES(%s, %s, %s, %s, %s)\", \\\n",
    "               (1 , 'Hello', 'Adule',2014,'Hello'))\n",
    "    print('Done')\n",
    "except pg.Error as e:\n",
    "    print(\"ERROR: Inserting Rows\")\n",
    "    print(e)"
   ]
  },
  {
   "cell_type": "code",
   "execution_count": 11,
   "metadata": {},
   "outputs": [
    {
     "name": "stdout",
     "output_type": "stream",
     "text": [
      "Done\n"
     ]
    }
   ],
   "source": [
    "try:\n",
    "    cur.execute(\"INSERT INTO music_library2(album_id, album_name, artist_name, year, song_name)\\\n",
    "    VALUES(%s, %s, %s, %s, %s)\", \\\n",
    "               (1 , 'Hello', 'Adule',2014,'sky fall'))\n",
    "    print('Done')\n",
    "except pg.Error as e:\n",
    "    print(\"ERROR: Inserting Rows\")\n",
    "    print(e)"
   ]
  },
  {
   "cell_type": "code",
   "execution_count": 12,
   "metadata": {},
   "outputs": [
    {
     "name": "stdout",
     "output_type": "stream",
     "text": [
      "Done\n"
     ]
    }
   ],
   "source": [
    "try:\n",
    "    cur.execute(\"INSERT INTO music_library2(album_id, album_name, artist_name, year, song_name)\\\n",
    "    VALUES(%s, %s, %s, %s, %s)\", \\\n",
    "               (1 , 'Hello', 'Adule',2014,'Remmember me'))\n",
    "    print('Done')\n",
    "except pg.Error as e:\n",
    "    print(\"ERROR: Inserting Rows\")\n",
    "    print(e)"
   ]
  },
  {
   "cell_type": "code",
   "execution_count": 13,
   "metadata": {},
   "outputs": [
    {
     "name": "stdout",
     "output_type": "stream",
     "text": [
      "Done\n"
     ]
    }
   ],
   "source": [
    "try:\n",
    "    cur.execute(\"INSERT INTO music_library2(album_id, album_name, artist_name, year, song_name)\\\n",
    "    VALUES(%s, %s, %s, %s, %s)\", \\\n",
    "               (2 , 'TEST', 'Ibrahim',2023,'Test'))\n",
    "    print('Done')\n",
    "except pg.Error as e:\n",
    "    print(\"ERROR: Inserting Rows\")\n",
    "    print(e)"
   ]
  },
  {
   "cell_type": "code",
   "execution_count": 14,
   "metadata": {},
   "outputs": [
    {
     "name": "stdout",
     "output_type": "stream",
     "text": [
      "Done\n"
     ]
    }
   ],
   "source": [
    "try:\n",
    "    cur.execute(\"INSERT INTO music_library2(album_id, album_name, artist_name, year, song_name)\\\n",
    "    VALUES(%s, %s, %s, %s, %s)\", \\\n",
    "               (2 , 'TEST', 'Ibrahim',2023,'hi'))\n",
    "    print('Done')\n",
    "except pg.Error as e:\n",
    "    print(\"ERROR: Inserting Rows\")\n",
    "    print(e)"
   ]
  },
  {
   "cell_type": "code",
   "execution_count": 15,
   "metadata": {},
   "outputs": [
    {
     "name": "stdout",
     "output_type": "stream",
     "text": [
      "Done\n"
     ]
    }
   ],
   "source": [
    "try:\n",
    "    cur.execute(\"INSERT INTO music_library2(album_id, album_name, artist_name, year, song_name)\\\n",
    "    VALUES(%s, %s, %s, %s, %s)\", \\\n",
    "               (2 , 'TEST', 'Ibrahim',2023,'Welcome'))\n",
    "    print('Done')\n",
    "except pg.Error as e:\n",
    "    print(\"ERROR: Inserting Rows\")\n",
    "    print(e)"
   ]
  },
  {
   "cell_type": "code",
   "execution_count": 16,
   "metadata": {},
   "outputs": [
    {
     "name": "stdout",
     "output_type": "stream",
     "text": [
      "(1, 'Hello', 'Adule', 2014, 'Hello')\n",
      "(1, 'Hello', 'Adule', 2014, 'sky fall')\n",
      "(1, 'Hello', 'Adule', 2014, 'Remmember me')\n",
      "(2, 'TEST', 'Ibrahim', 2023, 'Test')\n",
      "(2, 'TEST', 'Ibrahim', 2023, 'hi')\n",
      "(2, 'TEST', 'Ibrahim', 2023, 'Welcome')\n"
     ]
    }
   ],
   "source": [
    "try:\n",
    "    cur.execute('SELECT * from music_library2;')\n",
    "except pg.Error as e:\n",
    "    print(\"ERROR: select *\")\n",
    "    print(e)\n",
    "    \n",
    "row = cur.fetchone()\n",
    "while row:\n",
    "    print(row)\n",
    "    row = cur.fetchone()"
   ]
  },
  {
   "cell_type": "markdown",
   "metadata": {},
   "source": [
    "**Moving to 2nd Normal Form(2NF)**\n",
    "\n",
    "We have moved our data to be in 1NF which is the first step in moving to 2nd Normal Form. Our table is not yet in 2nd Normal Form. While each of our records in our table is unique, our Primary key (album id) is not unique. We need to break this up into two tables, album library and song library.\n",
    "\n",
    "Table Name: album_library \n",
    "\n",
    "    column 0: Album Id\n",
    "    column 1: Album Name\n",
    "    column 2: Artist Name\n",
    "    column 3: Year\n",
    "    Table Name: song_library\n",
    "    column 0: Song Id\n",
    "    column 1: Song Name\n",
    "    column 3: Album Id"
   ]
  },
  {
   "cell_type": "code",
   "execution_count": 17,
   "metadata": {},
   "outputs": [
    {
     "name": "stdout",
     "output_type": "stream",
     "text": [
      "Table Created\n",
      "Table Created\n"
     ]
    }
   ],
   "source": [
    "try:\n",
    "    cur.execute('CREATE TABLE IF NOT EXISTS album_library(album_id int, \\\n",
    "    album_name varchar, artist_name varchar, \\\n",
    "    year int);')\n",
    "    print('Table Created')\n",
    "except pg.Error as e:\n",
    "    print(\"ERROR: Could not create table in database.\")\n",
    "    print(e)\n",
    "\n",
    "try:\n",
    "    cur.execute('CREATE TABLE IF NOT EXISTS song_library(song_id int, \\\n",
    "    album_id int, song_name varchar);')\n",
    "    print('Table Created')\n",
    "except pg.Error as e:\n",
    "    print(\"ERROR: Could not create table in database.\")\n",
    "    print(e)"
   ]
  },
  {
   "cell_type": "code",
   "execution_count": 18,
   "metadata": {},
   "outputs": [
    {
     "name": "stdout",
     "output_type": "stream",
     "text": [
      "Done\n",
      "Done\n"
     ]
    }
   ],
   "source": [
    "try:\n",
    "    cur.execute(\"INSERT INTO album_library(album_id, album_name, artist_name, year)\\\n",
    "    VALUES(%s, %s, %s, %s)\", \\\n",
    "               (1 , 'Hello', 'Adule',2014))\n",
    "    print('Done')\n",
    "except pg.Error as e:\n",
    "    print(\"ERROR: Inserting Rows\")\n",
    "    print(e)\n",
    "    \n",
    "try:\n",
    "    cur.execute(\"INSERT INTO album_library(album_id, album_name, artist_name, year)\\\n",
    "    VALUES(%s, %s, %s, %s)\", \\\n",
    "               (1 , 'TEST', 'Ibrahim',2014))\n",
    "    print('Done')\n",
    "except pg.Error as e:\n",
    "    print(\"ERROR: Inserting Rows\")\n",
    "    print(e)"
   ]
  },
  {
   "cell_type": "code",
   "execution_count": 19,
   "metadata": {},
   "outputs": [
    {
     "name": "stdout",
     "output_type": "stream",
     "text": [
      "Done\n",
      "Done\n",
      "Done\n",
      "Done\n",
      "Done\n"
     ]
    }
   ],
   "source": [
    "try:\n",
    "    cur.execute(\"INSERT INTO song_library(song_id, album_id, song_name)\\\n",
    "    VALUES(%s, %s, %s)\", \\\n",
    "               (1 , 1, 'Hello'))\n",
    "    print('Done')\n",
    "except pg.Error as e:\n",
    "    print(\"ERROR: Inserting Rows\")\n",
    "    print(e)\n",
    "    \n",
    "try:\n",
    "    cur.execute(\"INSERT INTO song_library(song_id, album_id, song_name)\\\n",
    "    VALUES(%s, %s, %s)\", \\\n",
    "               (2 , 1, 'ask me'))\n",
    "    print('Done')\n",
    "except pg.Error as e:\n",
    "    print(\"ERROR: Inserting Rows\")\n",
    "    print(e)\n",
    "\n",
    "try:\n",
    "    cur.execute(\"INSERT INTO song_library(song_id, album_id, song_name)\\\n",
    "    VALUES(%s, %s, %s)\", \\\n",
    "               (3 , 1, 'let me'))\n",
    "    print('Done')\n",
    "except pg.Error as e:\n",
    "    print(\"ERROR: Inserting Rows\")\n",
    "    print(e)\n",
    "\n",
    "try:\n",
    "    cur.execute(\"INSERT INTO song_library(song_id, album_id, song_name)\\\n",
    "    VALUES(%s, %s, %s)\", \\\n",
    "               (4 , 2, 'test'))\n",
    "    print('Done')\n",
    "except pg.Error as e:\n",
    "    print(\"ERROR: Inserting Rows\")\n",
    "    print(e)\n",
    "\n",
    "try:\n",
    "    cur.execute(\"INSERT INTO song_library(song_id, album_id, song_name)\\\n",
    "    VALUES(%s, %s, %s)\", \\\n",
    "               (5 , 2, 'fall'))\n",
    "    print('Done')\n",
    "except pg.Error as e:\n",
    "    print(\"ERROR: Inserting Rows\")\n",
    "    print(e)"
   ]
  },
  {
   "cell_type": "code",
   "execution_count": 20,
   "metadata": {},
   "outputs": [
    {
     "name": "stdout",
     "output_type": "stream",
     "text": [
      "Ablum table\n",
      "(1, 'Hello', 'Adule', 2014)\n",
      "(1, 'TEST', 'Ibrahim', 2014)\n",
      "Song table\n",
      "(1, 1, 'Hello')\n",
      "(2, 1, 'ask me')\n",
      "(3, 1, 'let me')\n",
      "(4, 2, 'test')\n",
      "(5, 2, 'fall')\n"
     ]
    }
   ],
   "source": [
    "try:\n",
    "    cur.execute('SELECT * from album_library;')\n",
    "except pg.Error as e:\n",
    "    print(\"ERROR: select *\")\n",
    "    print(e)\n",
    "    \n",
    "row = cur.fetchone()\n",
    "print('Ablum table')\n",
    "while row:\n",
    "    print(row)\n",
    "    row = cur.fetchone()\n",
    "\n",
    "try:\n",
    "    cur.execute('SELECT * from song_library;')\n",
    "except pg.Error as e:\n",
    "    print(\"ERROR: select *\")\n",
    "    print(e)\n",
    "    \n",
    "row = cur.fetchone()\n",
    "print('Song table')\n",
    "while row:\n",
    "    print(row)\n",
    "    row = cur.fetchone()"
   ]
  },
  {
   "cell_type": "markdown",
   "metadata": {},
   "source": [
    "Lets do a <strong>JOIN</strong> on this table so we can get all the information we had in our first tabel."
   ]
  },
  {
   "cell_type": "code",
   "execution_count": 21,
   "metadata": {},
   "outputs": [
    {
     "name": "stdout",
     "output_type": "stream",
     "text": [
      "Join Table\n",
      "(1, 'Hello', 'Adule', 2014, 1, 1, 'Hello')\n",
      "(1, 'Hello', 'Adule', 2014, 2, 1, 'ask me')\n",
      "(1, 'Hello', 'Adule', 2014, 3, 1, 'let me')\n",
      "(1, 'TEST', 'Ibrahim', 2014, 1, 1, 'Hello')\n",
      "(1, 'TEST', 'Ibrahim', 2014, 2, 1, 'ask me')\n",
      "(1, 'TEST', 'Ibrahim', 2014, 3, 1, 'let me')\n"
     ]
    }
   ],
   "source": [
    "#album_library.album_id\n",
    "try:\n",
    "    cur.execute(\"SELECT * from album_library JOIN \\\n",
    "        song_library ON album_library.album_id = song_library.album_id ; \")\n",
    "except pg.Error as e:\n",
    "    print(\"Error: select *\")\n",
    "    print(e)\n",
    "\n",
    "row = cur.fetchone()\n",
    "print(\"Join Table\")\n",
    "while row:\n",
    "    print(row)\n",
    "    row = cur.fetchone()"
   ]
  },
  {
   "cell_type": "markdown",
   "metadata": {},
   "source": [
    "## Moving to 3rd Normal Form (3NF)\n",
    "Check our table for any transitive dependencies. Album_library can move Artist_name to its own table, called Artists, which will leave us with 3 tables.\n",
    "\n",
    "Table Name: album_library2\n",
    "    \n",
    "    column 0: Album Id\n",
    "    column 1: Album Name\n",
    "    column 2: Artist Id\n",
    "    column 3: Year\n",
    "\n",
    "Table Name: song_library\n",
    "\n",
    "    column 0: Song Id\n",
    "    column 1: Song Name\n",
    "    column 3: Album Id\n",
    "\n",
    "Table Name: artist_library\n",
    "\n",
    "    column 0: Artist Id\n",
    "    column 1: Artist Name"
   ]
  },
  {
   "cell_type": "code",
   "execution_count": 22,
   "metadata": {},
   "outputs": [
    {
     "name": "stdout",
     "output_type": "stream",
     "text": [
      "Table: album_library2\n",
      "\n",
      "(1, 'Rubber Soul', 1, 1965)\n",
      "(2, 'Let It Be', 1, 1970)\n",
      "\n",
      "Table: song_library\n",
      "\n",
      "(1, 1, 'Hello')\n",
      "(2, 1, 'ask me')\n",
      "(3, 1, 'let me')\n",
      "(4, 2, 'test')\n",
      "(5, 2, 'fall')\n",
      "\n",
      "Table: artist_library\n",
      "\n",
      "(1, 'The Beatles')\n"
     ]
    }
   ],
   "source": [
    "try: \n",
    "    cur.execute(\"CREATE TABLE IF NOT EXISTS album_library2 (album_id int, \\\n",
    "                                                           album_name varchar, artist_id int, \\\n",
    "                                                           year int);\")\n",
    "except psycopg2.Error as e: \n",
    "    print(\"Error: Issue creating table\")\n",
    "    print (e)\n",
    "\n",
    "try: \n",
    "    cur.execute(\"CREATE TABLE IF NOT EXISTS artist_library (artist_id int, \\\n",
    "                                                           artist_name varchar);\")\n",
    "except psycopg2.Error as e: \n",
    "    print(\"Error: Issue creating table\")\n",
    "    print (e)\n",
    "\n",
    "    \n",
    "try: \n",
    "    cur.execute(\"INSERT INTO album_library2 (album_id, album_name, artist_id, year) \\\n",
    "                 VALUES (%s, %s, %s, %s)\", \\\n",
    "                 (1, \"Rubber Soul\", 1, 1965))\n",
    "except psycopg2.Error as e: \n",
    "    print(\"Error: Inserting Rows\")\n",
    "    print (e)\n",
    "\n",
    "try: \n",
    "    cur.execute(\"INSERT INTO album_library2 (album_id, album_name, artist_id, year) \\\n",
    "                 VALUES (%s, %s, %s, %s)\", \\\n",
    "                 (2, \"Let It Be\", 1, 1970))\n",
    "except psycopg2.Error as e: \n",
    "    print(\"Error: Inserting Rows\")\n",
    "    print (e)\n",
    "\n",
    "try: \n",
    "    cur.execute(\"INSERT INTO artist_library (artist_id, artist_name) \\\n",
    "                 VALUES (%s, %s)\", \\\n",
    "                 (1, \"The Beatles\"))\n",
    "except psycopg2.Error as e: \n",
    "    print(\"Error: Inserting Rows\")\n",
    "    print (e)\n",
    "    \n",
    "\n",
    "print(\"Table: album_library2\\n\")\n",
    "try: \n",
    "    cur.execute(\"SELECT * FROM album_library2;\")\n",
    "except psycopg2.Error as e: \n",
    "    print(\"Error: select *\")\n",
    "    print (e)\n",
    "\n",
    "row = cur.fetchone()\n",
    "while row:\n",
    "   print(row)\n",
    "   row = cur.fetchone()\n",
    "\n",
    "print(\"\\nTable: song_library\\n\")\n",
    "try: \n",
    "    cur.execute(\"SELECT * FROM song_library;\")\n",
    "except psycopg2.Error as e: \n",
    "    print(\"Error: select *\")\n",
    "    print (e)\n",
    "\n",
    "row = cur.fetchone()\n",
    "while row:\n",
    "   print(row)\n",
    "   row = cur.fetchone()\n",
    "\n",
    "##Doublechecking that data is in the table\n",
    "print(\"\\nTable: artist_library\\n\")\n",
    "try: \n",
    "    cur.execute(\"SELECT * FROM artist_library;\")\n",
    "except psycopg2.Error as e: \n",
    "    print(\"Error: select *\")\n",
    "    print (e)\n",
    "\n",
    "row = cur.fetchone()\n",
    "while row:\n",
    "   print(row)\n",
    "   row = cur.fetchone()"
   ]
  },
  {
   "cell_type": "code",
   "execution_count": 23,
   "metadata": {},
   "outputs": [
    {
     "name": "stdout",
     "output_type": "stream",
     "text": [
      "(1, 'The Beatles', 1, 'Rubber Soul', 1, 1965, 1, 1, 'Hello')\n",
      "(1, 'The Beatles', 1, 'Rubber Soul', 1, 1965, 2, 1, 'ask me')\n",
      "(1, 'The Beatles', 1, 'Rubber Soul', 1, 1965, 3, 1, 'let me')\n",
      "(1, 'The Beatles', 2, 'Let It Be', 1, 1970, 4, 2, 'test')\n",
      "(1, 'The Beatles', 2, 'Let It Be', 1, 1970, 5, 2, 'fall')\n"
     ]
    }
   ],
   "source": [
    "try: \n",
    "    cur.execute(\"SELECT * FROM (artist_library JOIN album_library2 ON \\\n",
    "                               artist_library.artist_id = album_library2.artist_id) JOIN \\\n",
    "                               song_library ON album_library2.album_id=song_library.album_id;\")\n",
    "except psycopg2.Error as e: \n",
    "    print(\"Error: select *\")\n",
    "    print (e)\n",
    "\n",
    "row = cur.fetchone()\n",
    "while row:\n",
    "   print(row)\n",
    "   row = cur.fetchone()"
   ]
  },
  {
   "cell_type": "markdown",
   "metadata": {},
   "source": [
    "### DONE! We have Normalized our dataset!\n",
    "### For the sake of the demo, I will drop the tables."
   ]
  },
  {
   "cell_type": "code",
   "execution_count": 24,
   "metadata": {},
   "outputs": [],
   "source": [
    "try: \n",
    "    cur.execute(\"DROP table music_library\")\n",
    "except psycopg2.Error as e: \n",
    "    print(\"Error: Dropping table\")\n",
    "    print (e)\n",
    "try: \n",
    "    cur.execute(\"DROP table music_library2\")\n",
    "except psycopg2.Error as e: \n",
    "    print(\"Error: Dropping table\")\n",
    "    print (e)\n",
    "try: \n",
    "    cur.execute(\"DROP table album_library\")\n",
    "except psycopg2.Error as e: \n",
    "    print(\"Error: Dropping table\")\n",
    "    print (e)\n",
    "try: \n",
    "    cur.execute(\"DROP table song_library\")\n",
    "except psycopg2.Error as e: \n",
    "    print(\"Error: Dropping table\")\n",
    "    print (e)\n",
    "try: \n",
    "    cur.execute(\"DROP table album_library2\")\n",
    "except psycopg2.Error as e: \n",
    "    print(\"Error: Dropping table\")\n",
    "    print (e)\n",
    "try: \n",
    "    cur.execute(\"DROP table artist_library\")\n",
    "except psycopg2.Error as e: \n",
    "    print(\"Error: Dropping table\")\n",
    "    print (e)"
   ]
  },
  {
   "cell_type": "markdown",
   "metadata": {},
   "source": [
    "### And finally close your cursor and connection."
   ]
  },
  {
   "cell_type": "code",
   "execution_count": 25,
   "metadata": {},
   "outputs": [],
   "source": [
    "cur.close()"
   ]
  },
  {
   "cell_type": "code",
   "execution_count": null,
   "metadata": {},
   "outputs": [],
   "source": []
  }
 ],
 "metadata": {
  "kernelspec": {
   "display_name": "Python 3",
   "language": "python",
   "name": "python3"
  },
  "language_info": {
   "codemirror_mode": {
    "name": "ipython",
    "version": 3
   },
   "file_extension": ".py",
   "mimetype": "text/x-python",
   "name": "python",
   "nbconvert_exporter": "python",
   "pygments_lexer": "ipython3",
   "version": "3.8.5"
  }
 },
 "nbformat": 4,
 "nbformat_minor": 4
}
