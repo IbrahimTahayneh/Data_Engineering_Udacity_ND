{
 "cells": [
  {
   "cell_type": "markdown",
   "metadata": {},
   "source": [
    "# Lesson 2 Exercise 1 Solution: Creating Normalized Tables\n"
   ]
  },
  {
   "cell_type": "markdown",
   "metadata": {},
   "source": [
    "<strong>\n",
    "In this exercise we are going to walk through the basics of modeling data in normalized form. We will create tables in PostgreSQL, insert rows of data, and do simple JOIN SQL queries to show how these mutliple tables can work together.\n",
    "</strong>"
   ]
  },
  {
   "cell_type": "markdown",
   "metadata": {},
   "source": [
    "<strong>import libraries</strong>"
   ]
  },
  {
   "cell_type": "code",
   "execution_count": 18,
   "metadata": {},
   "outputs": [],
   "source": [
    "import psycopg2 as pg"
   ]
  },
  {
   "cell_type": "markdown",
   "metadata": {},
   "source": [
    "**Create a connection to the database, get a cursor, and set autocommit to true**"
   ]
  },
  {
   "cell_type": "code",
   "execution_count": 19,
   "metadata": {},
   "outputs": [
    {
     "name": "stdout",
     "output_type": "stream",
     "text": [
      "connect\n"
     ]
    }
   ],
   "source": [
    "try: \n",
    "    conn = pg.connect(\"host=127.0.0.1 dbname=udacity user=postgres password=admin\")\n",
    "    print(\"connect\")\n",
    "except pg.Error as e: \n",
    "    print(\"Error: Could not make connection to the postgres database\")\n",
    "    print(e)\n",
    "try: \n",
    "    cur = conn.cursor()\n",
    "except pg.Error as e: \n",
    "    print(\"Error: Could not get cursor to the Database\")\n",
    "    print(e)\n",
    "conn.set_session(autocommit=True)"
   ]
  },
  {
   "cell_type": "markdown",
   "metadata": {},
   "source": [
    "\n",
    "**Let's imagine we have a table called Music Store.**\n",
    "\n",
    "    Table Name: music_store\n",
    "    column 0: Transaction Id\n",
    "    column 1: Customer Name\n",
    "    column 2: Cashier Name\n",
    "    column 3: Year \n",
    "    column 4: Albums Purchased"
   ]
  },
  {
   "cell_type": "code",
   "execution_count": 20,
   "metadata": {},
   "outputs": [],
   "source": [
    "# create table.\n",
    "\n",
    "try:\n",
    "    cur.execute(\"CREATE TABLE IF NOT EXISTS music_store (transaction_id int NOT NULL unique,\\\n",
    "    customer_name varchar, cashier_name varchar, year int, album_purchased text[]);\")\n",
    "except pg.Error as e:\n",
    "    print(\"Error: Could not create table\")"
   ]
  },
  {
   "cell_type": "code",
   "execution_count": 4,
   "metadata": {},
   "outputs": [],
   "source": [
    "# insert data into table\n",
    "\n",
    "try:\n",
    "    cur.execute(\"INSERT INTO music_store(transaction_id, customer_name, cashier_name, year, album_purchased)\\\n",
    "    VALUES(%s, %s, %s, %s, %s)\\\n",
    "    ON CONFLICT(transaction_id)\\\n",
    "    DO NOTHING;\", (1, \"Ibrahim\", \"Ali\", 2000, [\"Hello\", \"World beauty\"]))\n",
    "except pg.Error as e:\n",
    "    print(\"Error: could not add data to table\")\n",
    "    print(e)\n",
    "    \n",
    "try:\n",
    "    cur.execute(\"INSERT INTO music_store(transaction_id, customer_name, cashier_name, year, album_purchased)\\\n",
    "    VALUES(%s, %s, %s, %s, %s)\\\n",
    "    ON CONFLICT(transaction_id)\\\n",
    "    DO NOTHING;\", (2, \"Jamal\", \"Ahmed\", 2002, [\"Yes\", \"Test\"]))\n",
    "except pg.Error as e:\n",
    "    print(\"Error: could not add data to table\")\n",
    "    print(e)\n",
    "    \n",
    "try:\n",
    "    cur.execute(\"INSERT INTO music_store(transaction_id, customer_name, cashier_name, year, album_purchased)\\\n",
    "    VALUES(%s, %s, %s, %s, %s)\\\n",
    "    ON CONFLICT(transaction_id)\\\n",
    "    DO NOTHING;\", (3, \"Ameen\", \"Ali\", 2000, [\"team\", \"FCBayren\"]))\n",
    "except pg.Error as e:\n",
    "    print(\"Error: could not add data to table\")\n",
    "    print(e)"
   ]
  },
  {
   "cell_type": "code",
   "execution_count": 21,
   "metadata": {},
   "outputs": [
    {
     "name": "stdout",
     "output_type": "stream",
     "text": [
      "(1, 'Ibrahim', 'Ali', 2000, ['Hello', 'World beauty'])\n",
      "(2, 'Jamal', 'Ahmed', 2002, ['Yes', 'Test'])\n",
      "(3, 'Ameen', 'Ali', 2000, ['team', 'FCBayren'])\n"
     ]
    }
   ],
   "source": [
    "# print results\n",
    "try:\n",
    "    cur.execute('select * from music_store;')\n",
    "except pg.Error as e:\n",
    "    print(\"Error: Select *\")\n",
    "    print(e)\n",
    "\n",
    "row = cur.fetchone()\n",
    "while row:\n",
    "    print(row)\n",
    "    row = cur.fetchone()\n"
   ]
  },
  {
   "cell_type": "markdown",
   "metadata": {},
   "source": [
    "**Moving to 1st Normal Form (1NF)**\n",
    "\n",
    "This data has not been normalized. To get this data into 1st normal form, we will need to remove any collections or list of data. We need to break up the list of songs into individual rows.\n",
    "\n",
    "Table Name: music_store\n",
    "\n",
    "    column 0: Transaction Id\n",
    "    column 1: Customer Name\n",
    "    column 2: Cashier Name\n",
    "    column 3: Year \n",
    "    column 4: Albums Purchased"
   ]
  },
  {
   "cell_type": "code",
   "execution_count": 22,
   "metadata": {},
   "outputs": [],
   "source": [
    "# create table.\n",
    "\n",
    "try:\n",
    "    cur.execute(\"CREATE TABLE IF NOT EXISTS music_store1 (transaction_id int,\\\n",
    "    customer_name varchar, cashier_name varchar, year int, album_purchased varchar);\")\n",
    "except pg.Error as e:\n",
    "    print(\"Error: Could not create table\")"
   ]
  },
  {
   "cell_type": "code",
   "execution_count": 7,
   "metadata": {},
   "outputs": [],
   "source": [
    "# insert data into table\n",
    "\n",
    "try:\n",
    "    cur.execute(\"INSERT INTO music_store1 (transaction_id, customer_name, cashier_name, year, album_purchased)\\\n",
    "    VALUES(%s, %s, %s, %s, %s);\", (1, \"Ibrahim\", \"Ali\", 2000, \"World beauty\"))\n",
    "except pg.Error as e:\n",
    "    print(\"Error: could not add data to table\")\n",
    "    print(e)\n",
    "    \n",
    "try:\n",
    "    cur.execute(\"INSERT INTO music_store1 (transaction_id, customer_name, cashier_name, year, album_purchased)\\\n",
    "    VALUES(%s, %s, %s, %s, %s);\", (1, \"Ibrahim\", \"Ali\", 2000, \"Hello\"))\n",
    "except pg.Error as e:\n",
    "    print(\"Error: could not add data to table\")\n",
    "    print(e)\n",
    "\n",
    "try:\n",
    "    cur.execute(\"INSERT INTO music_store1 (transaction_id, customer_name, cashier_name, year, album_purchased)\\\n",
    "    VALUES(%s, %s, %s, %s, %s);\", (2, \"Jamal\", \"Ahmed\", 2002, \"Yes\"))\n",
    "except pg.Error as e:\n",
    "    print(\"Error: could not add data to table\")\n",
    "    print(e)\n",
    "\n",
    "try:\n",
    "    cur.execute(\"INSERT INTO music_store1 (transaction_id, customer_name, cashier_name, year, album_purchased)\\\n",
    "    VALUES(%s, %s, %s, %s, %s);\", (2, \"Jamal\", \"Ahmed\", 2002, \"Test\"))\n",
    "except pg.Error as e:\n",
    "    print(\"Error: could not add data to table\")\n",
    "    print(e)\n",
    "\n",
    "try:\n",
    "    cur.execute(\"INSERT INTO music_store1 (transaction_id, customer_name, cashier_name, year, album_purchased)\\\n",
    "    VALUES(%s, %s, %s, %s, %s);\", (3, \"Ameen\", \"Ali\", 2000, \"team\"))\n",
    "except pg.Error as e:\n",
    "    print(\"Error: could not add data to table\")\n",
    "    print(e)\n",
    "\n",
    "try:\n",
    "    cur.execute(\"INSERT INTO music_store1 (transaction_id, customer_name, cashier_name, year, album_purchased)\\\n",
    "    VALUES(%s, %s, %s, %s, %s);\", (3, \"Ameen\", \"Ali\", 2000, \"FCBayren\"))\n",
    "except pg.Error as e:\n",
    "    print(\"Error: could not add data to table\")\n",
    "    print(e)"
   ]
  },
  {
   "cell_type": "code",
   "execution_count": 23,
   "metadata": {},
   "outputs": [
    {
     "name": "stdout",
     "output_type": "stream",
     "text": [
      "(1, 'Ibrahim', 'Ali', 2000, 'World beauty')\n",
      "(1, 'Ibrahim', 'Ali', 2000, 'Hello')\n",
      "(2, 'Jamal', 'Ahmed', 2002, 'Yes')\n",
      "(2, 'Jamal', 'Ahmed', 2002, 'Test')\n",
      "(3, 'Ameen', 'Ali', 2000, 'team')\n",
      "(3, 'Ameen', 'Ali', 2000, 'FCBayren')\n"
     ]
    }
   ],
   "source": [
    "# print results\n",
    "try:\n",
    "    cur.execute('select * from music_store1 ;')\n",
    "except pg.Error as e:\n",
    "    print(\"Error: Select *\")\n",
    "    print(e)\n",
    "\n",
    "row = cur.fetchone()\n",
    "while row:\n",
    "    print(row)\n",
    "    row = cur.fetchone()"
   ]
  },
  {
   "cell_type": "markdown",
   "metadata": {},
   "source": [
    "**Moving to 2nd Normal Form (2NF)**\n",
    "\n",
    "We have moved our data to be in 1NF which is the first step in moving to 2nd Normal Form. Our table is not yet in 2nd Normal Form. While each of our records in our table is unique, our Primary key (transaction id) is not unique. We need to break this up into two tables, transactions and albums sold.\n",
    "\n",
    "Table Name: transactions \n",
    "\n",
    "    column 0: Transaction ID\n",
    "    column 1: Customer Name\n",
    "    column 2: Cashier Name\n",
    "    column 3: Year\n",
    "    \n",
    "Table Name: albums_sold\n",
    "\n",
    "    column 0: Album Id\n",
    "    column 1: Transaction Id\n",
    "    column 3: Album Name"
   ]
  },
  {
   "cell_type": "code",
   "execution_count": 24,
   "metadata": {},
   "outputs": [],
   "source": [
    "# create table.\n",
    "\n",
    "try:\n",
    "    cur.execute(\"CREATE TABLE IF NOT EXISTS transaction (transaction_id int,\\\n",
    "    customer_name varchar, cashier_name varchar, year int);\")\n",
    "except pg.Error as e:\n",
    "    print(\"Error: Could not create table\")\n",
    "\n",
    "\n",
    "try:\n",
    "    cur.execute(\"CREATE TABLE IF NOT EXISTS album_sold (album_id int, transaction_id int, album_name varchar);\")\n",
    "except pg.Error as e:\n",
    "    print(\"Error: Could not create table\")"
   ]
  },
  {
   "cell_type": "code",
   "execution_count": 10,
   "metadata": {},
   "outputs": [],
   "source": [
    "# insert data into tables.\n",
    "\n",
    "try: \n",
    "    cur.execute(\"INSERT INTO transaction (transaction_id, customer_name, cashier_name, year) \\\n",
    "                 VALUES (%s, %s, %s, %s)\", \\\n",
    "                 (1, \"ibrahim\", \"Ali\", 2000))\n",
    "except psycopg2.Error as e: \n",
    "    print(\"Error: could not add data to table\")\n",
    "    print (e)\n",
    "\n",
    "try: \n",
    "    cur.execute(\"INSERT INTO transaction (transaction_id, customer_name, cashier_name, year) \\\n",
    "                 VALUES (%s, %s, %s, %s)\", \\\n",
    "                 (2, \"Jamal\", \"Ahmed\", 2000))\n",
    "except psycopg2.Error as e: \n",
    "    print(\"Error: could not add data to table\")\n",
    "    print (e)\n",
    "    \n",
    "try: \n",
    "    cur.execute(\"INSERT INTO transaction (transaction_id, customer_name, cashier_name, year) \\\n",
    "                 VALUES (%s, %s, %s, %s)\", \\\n",
    "                 (3, \"Ameen\", \"Ali\", 2018))\n",
    "except psycopg2.Error as e: \n",
    "    print(\"Error: could not add data to table\")\n",
    "    print (e)\n",
    "    \n",
    "try: \n",
    "    cur.execute(\"INSERT INTO album_sold (album_id, transaction_id, album_name) \\\n",
    "                 VALUES (%s, %s, %s)\", \\\n",
    "                 (1, 1, \"Hello\"))\n",
    "except psycopg2.Error as e: \n",
    "    print(\"Error: could not add data to table\")\n",
    "    print (e)\n",
    "\n",
    "try: \n",
    "    cur.execute(\"INSERT INTO album_sold (album_id, transaction_id, album_name) \\\n",
    "                 VALUES (%s, %s, %s)\", \\\n",
    "                 (2, 1, \"world beauty\"))\n",
    "except psycopg2.Error as e: \n",
    "    print(\"Error: could not add data to table\")\n",
    "    print (e)\n",
    "    \n",
    "try: \n",
    "    cur.execute(\"INSERT INTO album_sold (album_id, transaction_id, album_name) \\\n",
    "                 VALUES (%s, %s, %s)\", \\\n",
    "                 (3, 2, \"yes\"))\n",
    "except psycopg2.Error as e: \n",
    "    print(\"Error: could not add data to table\")\n",
    "    print (e)\n",
    "    \n",
    "try: \n",
    "    cur.execute(\"INSERT INTO album_sold (album_id, transaction_id, album_name) \\\n",
    "                 VALUES (%s, %s, %s)\", \\\n",
    "                 (4, 2, \"test\"))\n",
    "except psycopg2.Error as e: \n",
    "    print(\"Error: could not add data to table\")\n",
    "    print (e)\n",
    "\n",
    "try: \n",
    "    cur.execute(\"INSERT INTO album_sold (album_id, transaction_id, album_name) \\\n",
    "                 VALUES (%s, %s, %s)\", \\\n",
    "                 (5, 3, \"team\"))\n",
    "except psycopg2.Error as e: \n",
    "    print(\"Error: could not add data to table\")\n",
    "    print (e)\n",
    "\n",
    "try: \n",
    "    cur.execute(\"INSERT INTO album_sold (album_id, transaction_id, album_name) \\\n",
    "                 VALUES (%s, %s, %s)\", \\\n",
    "                 (6, 3, \"FCB\"))\n",
    "except psycopg2.Error as e: \n",
    "    print(\"Error: could not add data to table\")\n",
    "    print (e)"
   ]
  },
  {
   "cell_type": "code",
   "execution_count": 25,
   "metadata": {},
   "outputs": [
    {
     "name": "stdout",
     "output_type": "stream",
     "text": [
      "Transaction table\n",
      "(1, 'ibrahim', 'Ali', 2000)\n",
      "(2, 'Jamal', 'Ahmed', 2000)\n",
      "(3, 'Ameen', 'Ali', 2018)\n",
      "\n",
      "album sold table\n",
      "(1, 1, 'Hello')\n",
      "(2, 1, 'world beauty')\n",
      "(3, 2, 'yes')\n",
      "(4, 2, 'test')\n",
      "(5, 3, 'team')\n",
      "(6, 3, 'FCB')\n"
     ]
    }
   ],
   "source": [
    "# print results\n",
    "try:\n",
    "    cur.execute('select * from transaction;')\n",
    "except pg.Error as e:\n",
    "    print('Error: select *')\n",
    "    print(e)\n",
    "\n",
    "print('Transaction table')\n",
    "row = cur.fetchone()\n",
    "while row:\n",
    "    print(row)\n",
    "    row = cur.fetchone()\n",
    "    \n",
    "try:\n",
    "    cur.execute('select * from album_sold;')\n",
    "except pg.Error as e:\n",
    "    print('Error: select *')\n",
    "    print(e)\n",
    "\n",
    "print('\\nalbum sold table')\n",
    "row = cur.fetchone()\n",
    "while row:\n",
    "    print(row)\n",
    "    row = cur.fetchone()"
   ]
  },
  {
   "cell_type": "code",
   "execution_count": 12,
   "metadata": {},
   "outputs": [
    {
     "name": "stdout",
     "output_type": "stream",
     "text": [
      "(1, 'ibrahim', 'Ali', 2000, 1, 1, 'Hello')\n",
      "(1, 'ibrahim', 'Ali', 2000, 2, 1, 'world beauty')\n",
      "(2, 'Jamal', 'Ahmed', 2000, 3, 2, 'yes')\n",
      "(2, 'Jamal', 'Ahmed', 2000, 4, 2, 'test')\n",
      "(3, 'Ameen', 'Ali', 2018, 5, 3, 'team')\n",
      "(3, 'Ameen', 'Ali', 2018, 6, 3, 'FCB')\n"
     ]
    }
   ],
   "source": [
    "# I complete the join on the transactions and album_sold tables\n",
    "\n",
    "try: \n",
    "    cur.execute('select * from transaction t \\\n",
    "    join album_sold a on t.transaction_id = a.transaction_id')\n",
    "except pg.Error as e:\n",
    "    print(\"Error: join query\")\n",
    "    print(e)\n",
    "\n",
    "row = cur.fetchone()\n",
    "while row:\n",
    "    print(row)\n",
    "    row = cur.fetchone()"
   ]
  },
  {
   "cell_type": "markdown",
   "metadata": {},
   "source": [
    "**Moving to 3rd Normal Form (3NF)**\n",
    "\n",
    "Let's check our table for any transitive dependencies. Transactions can remove Cashier Name to its own table, called Employees, which will leave us with 3 tables.  \n",
    "\n",
    "Table Name: transactions2 \n",
    "\n",
    "    column 0: transaction Id\n",
    "    column 1: Customer Name\n",
    "    column 2: Cashier Id\n",
    "    column 3: Year\n",
    "\n",
    "Table Name: albums_sold\n",
    "\n",
    "    column 0: Album Id\n",
    "    column 1: Transaction Id\n",
    "    column 3: Album Name\n",
    "\n",
    "Table Name: employees\n",
    "\n",
    "    column 0: Employee Id\n",
    "    column 1: Employee Name"
   ]
  },
  {
   "cell_type": "code",
   "execution_count": 13,
   "metadata": {},
   "outputs": [],
   "source": [
    "# create table.\n",
    "\n",
    "try:\n",
    "    cur.execute(\"CREATE TABLE IF NOT EXISTS transaction2 (transaction_id int,\\\n",
    "    customer_name varchar, cashier_id int, year int);\")\n",
    "except pg.Error as e:\n",
    "    print(\"Error: Could not create table\")\n",
    "    \n",
    "try:\n",
    "    cur.execute(\"CREATE TABLE IF NOT EXISTS employee (employee_id int,\\\n",
    "    employee_name varchar);\")\n",
    "except pg.Error as e:\n",
    "    print(\"Error: Could not create table\")\n"
   ]
  },
  {
   "cell_type": "code",
   "execution_count": 14,
   "metadata": {},
   "outputs": [],
   "source": [
    "# insert data into tables\n",
    "\n",
    "try: \n",
    "    cur.execute(\"INSERT INTO transaction2 (transaction_id, customer_name, cashier_id, year) \\\n",
    "                 VALUES (%s, %s, %s, %s)\", \\\n",
    "                 (1, \"ibrahim\", 1, 2000))\n",
    "except psycopg2.Error as e: \n",
    "    print(\"Error: could not add data to table\")\n",
    "    print (e)\n",
    "\n",
    "try: \n",
    "    cur.execute(\"INSERT INTO transaction2 (transaction_id, customer_name, cashier_id, year) \\\n",
    "                 VALUES (%s, %s, %s, %s)\", \\\n",
    "                 (2, \"ibrahim\", 1, 2000))\n",
    "except psycopg2.Error as e: \n",
    "    print(\"Error: could not add data to table\")\n",
    "    print (e)\n",
    "\n",
    "try: \n",
    "    cur.execute(\"INSERT INTO transaction2 (transaction_id, customer_name, cashier_id, year) \\\n",
    "                 VALUES (%s, %s, %s, %s)\", \\\n",
    "                 (3, \"Jamal\", 2, 2000))\n",
    "except psycopg2.Error as e: \n",
    "    print(\"Error: could not add data to table\")\n",
    "    print (e)\n",
    "\n",
    "try: \n",
    "    cur.execute(\"INSERT INTO transaction2 (transaction_id, customer_name, cashier_id, year) \\\n",
    "                 VALUES (%s, %s, %s, %s)\", \\\n",
    "                 (4, \"Jamal\", 2, 2000))\n",
    "except psycopg2.Error as e: \n",
    "    print(\"Error: could not add data to table\")\n",
    "    print (e)\n",
    "\n",
    "try: \n",
    "    cur.execute(\"INSERT INTO transaction2 (transaction_id, customer_name, cashier_id, year) \\\n",
    "                 VALUES (%s, %s, %s, %s)\", \\\n",
    "                 (5, \"Ameen\", 1, 2000))\n",
    "except psycopg2.Error as e: \n",
    "    print(\"Error: could not add data to table\")\n",
    "    print (e)\n",
    "\n",
    "try: \n",
    "    cur.execute(\"INSERT INTO transaction2 (transaction_id, customer_name, cashier_id, year) \\\n",
    "                 VALUES (%s, %s, %s, %s)\", \\\n",
    "                 (6, \"Ameen\", 1, 2000))\n",
    "except psycopg2.Error as e: \n",
    "    print(\"Error: could not add data to table\")\n",
    "    print (e)\n",
    "\n",
    "try: \n",
    "    cur.execute(\"INSERT INTO employee (employee_id, employee_name) \\\n",
    "                 VALUES (%s, %s)\", \\\n",
    "                 (1, \"Ali\"))\n",
    "except psycopg2.Error as e: \n",
    "    print(\"Error: could not add data to table\")\n",
    "    print (e)\n",
    "\n",
    "try: \n",
    "    cur.execute(\"INSERT INTO employee (employee_id, employee_name) \\\n",
    "                 VALUES (%s, %s)\", \\\n",
    "                 (2, \"Ahmed\"))\n",
    "except psycopg2.Error as e: \n",
    "    print(\"Error: could not add data to table\")\n",
    "    print (e)"
   ]
  },
  {
   "cell_type": "code",
   "execution_count": 15,
   "metadata": {},
   "outputs": [
    {
     "name": "stdout",
     "output_type": "stream",
     "text": [
      "Transaction table\n",
      "(1, 'ibrahim', 1, 2000)\n",
      "(2, 'ibrahim', 1, 2000)\n",
      "(3, 'Jamal', 2, 2000)\n",
      "(4, 'Jamal', 2, 2000)\n",
      "(5, 'Ameen', 1, 2000)\n",
      "(6, 'Ameen', 1, 2000)\n",
      "\n",
      "album sold table\n",
      "(1, 1, 'Hello')\n",
      "(2, 1, 'world beauty')\n",
      "(3, 2, 'yes')\n",
      "(4, 2, 'test')\n",
      "(5, 3, 'team')\n",
      "(6, 3, 'FCB')\n",
      "\n",
      "employee  table\n",
      "(1, 'Ali')\n",
      "(2, 'Ahmed')\n"
     ]
    }
   ],
   "source": [
    "# print results\n",
    "try:\n",
    "    cur.execute('select * from transaction2;')\n",
    "except pg.Error as e:\n",
    "    print('Error: select *')\n",
    "    print(e)\n",
    "\n",
    "print('Transaction table')\n",
    "row = cur.fetchone()\n",
    "while row:\n",
    "    print(row)\n",
    "    row = cur.fetchone()\n",
    "    \n",
    "try:\n",
    "    cur.execute('select * from album_sold;')\n",
    "except pg.Error as e:\n",
    "    print('Error: select *')\n",
    "    print(e)\n",
    "\n",
    "print('\\nalbum sold table')\n",
    "row = cur.fetchone()\n",
    "while row:\n",
    "    print(row)\n",
    "    row = cur.fetchone()\n",
    "\n",
    "try:\n",
    "    cur.execute('select * from employee;')\n",
    "except pg.Error as e:\n",
    "    print('Error: select *')\n",
    "    print(e)\n",
    "\n",
    "print('\\nemployee  table')\n",
    "row = cur.fetchone()\n",
    "while row:\n",
    "    print(row)\n",
    "    row = cur.fetchone()"
   ]
  },
  {
   "cell_type": "code",
   "execution_count": 17,
   "metadata": {},
   "outputs": [
    {
     "name": "stdout",
     "output_type": "stream",
     "text": [
      "(1, 'ibrahim', 1, 2000, 1, 1, 'Hello', 1, 'Ali')\n",
      "(1, 'ibrahim', 1, 2000, 2, 1, 'world beauty', 1, 'Ali')\n",
      "(2, 'ibrahim', 1, 2000, 3, 2, 'yes', 1, 'Ali')\n",
      "(2, 'ibrahim', 1, 2000, 4, 2, 'test', 1, 'Ali')\n",
      "(3, 'Jamal', 2, 2000, 5, 3, 'team', 2, 'Ahmed')\n",
      "(3, 'Jamal', 2, 2000, 6, 3, 'FCB', 2, 'Ahmed')\n"
     ]
    }
   ],
   "source": [
    "# now JOIN on these 3 tables so we can get all the information we had in our first Table.\n",
    "try: \n",
    "    cur.execute(\"select * from transaction2 join album_sold on \\\n",
    "                               transaction2.transaction_id = album_sold.transaction_id join \\\n",
    "                               employee on transaction2.cashier_id=employee.employee_id;\")\n",
    "except psycopg2.Error as e: \n",
    "    print(\"Error: select *\")\n",
    "    print (e)\n",
    "\n",
    "row = cur.fetchone()\n",
    "while row:\n",
    "   print(row)\n",
    "   row = cur.fetchone()"
   ]
  },
  {
   "cell_type": "markdown",
   "metadata": {},
   "source": [
    "### So This is normalized database"
   ]
  }
 ],
 "metadata": {
  "kernelspec": {
   "display_name": "Python 3",
   "language": "python",
   "name": "python3"
  },
  "language_info": {
   "codemirror_mode": {
    "name": "ipython",
    "version": 3
   },
   "file_extension": ".py",
   "mimetype": "text/x-python",
   "name": "python",
   "nbconvert_exporter": "python",
   "pygments_lexer": "ipython3",
   "version": "3.8.5"
  }
 },
 "nbformat": 4,
 "nbformat_minor": 4
}
